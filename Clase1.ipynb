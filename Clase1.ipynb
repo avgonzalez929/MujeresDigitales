{
  "nbformat": 4,
  "nbformat_minor": 0,
  "metadata": {
    "colab": {
      "name": "Clase1.ipynb",
      "provenance": [],
      "authorship_tag": "ABX9TyN91EodtF+GfS2KK69FTr/L",
      "include_colab_link": true
    },
    "kernelspec": {
      "name": "python3",
      "display_name": "Python 3"
    },
    "language_info": {
      "name": "python"
    }
  },
  "cells": [
    {
      "cell_type": "markdown",
      "metadata": {
        "id": "view-in-github",
        "colab_type": "text"
      },
      "source": [
        "<a href=\"https://colab.research.google.com/github/avgonzalez929/MujeresDigitales/blob/main/Clase1.ipynb\" target=\"_parent\"><img src=\"https://colab.research.google.com/assets/colab-badge.svg\" alt=\"Open In Colab\"/></a>"
      ]
    },
    {
      "cell_type": "markdown",
      "metadata": {
        "id": "F2D8dvwez0pS"
      },
      "source": [
        "**Introducción**\n",
        "\n",
        "---\n",
        "Para manejar un código limpio en Python:\n",
        "Podemos seguir las siguientes recomendaciones:\n",
        "\n",
        "1. Manejar siempre minuscula\n",
        "2. Se les puede añadir números\n",
        "3. Aparecera errror si no están seguidos la declaración de la variable con el número asignado, es decir. Ejemplo: ana1 (correcto) ana 1 (incorrecto- error).\n",
        "\n",
        "En python hay varios tipos de datos compuestos y están disponibles por defecto en los intérpretes.\n",
        "**¿De que tipos?**\n",
        "1. Númericos\n",
        "2. Secuencias\n",
        "3. Mapeos\n",
        "4. Conjuntos usados para agrupar varios valores.\n",
        "\n",
        "**Diferencia entre Constantes y Variables**\n",
        "En mátematicas llamamos constante a una magnitud que no cambia con el paso del tiempo.\n",
        "Ejemplo: Contabilidad: Gastos Fijos_Muebles de oficina\n",
        "Ejemplo 2: 6\n",
        "\n",
        "Por otro lado, el concepto de variable, como la cantidad que es suceptible a tomar distintos valores númericos.\n",
        "**Ejemplo**:\n",
        "\n",
        "\n"
      ]
    },
    {
      "cell_type": "code",
      "metadata": {
        "colab": {
          "base_uri": "https://localhost:8080/"
        },
        "id": "A4Xr7aHZ2G-L",
        "outputId": "5a904475-191b-4652-8a9b-164e1f2f5c15"
      },
      "source": [
        "x=80\n",
        "print(x)"
      ],
      "execution_count": 2,
      "outputs": [
        {
          "output_type": "stream",
          "name": "stdout",
          "text": [
            "80\n"
          ]
        }
      ]
    },
    {
      "cell_type": "markdown",
      "metadata": {
        "id": "DUU_rU2l3HdZ"
      },
      "source": [
        "**Tipos de datos**\n",
        "\n",
        "---\n",
        "**Enteros:**\n",
        "- Son los números que no tienen decimales\n",
        "- Pueden ser positivos y negativos\n",
        "\n"
      ]
    },
    {
      "cell_type": "code",
      "metadata": {
        "id": "4GMqUHJ23mNz",
        "outputId": "17fa8fd5-a42d-4bf9-e413-2ece3b03d2cb",
        "colab": {
          "base_uri": "https://localhost:8080/"
        }
      },
      "source": [
        "a=int(3.964)\n",
        "print(a)"
      ],
      "execution_count": 4,
      "outputs": [
        {
          "output_type": "stream",
          "name": "stdout",
          "text": [
            "3\n"
          ]
        }
      ]
    },
    {
      "cell_type": "markdown",
      "metadata": {
        "id": "c9efnvV13-Ci"
      },
      "source": [
        "El comando int es para hacer alusión a números enteros.\n",
        "A parte el comando float, permite valores con decimales.\n"
      ]
    },
    {
      "cell_type": "code",
      "metadata": {
        "id": "de26nph-4qHG",
        "outputId": "f63cf511-e834-4c49-81af-61ddc9c5ec0e",
        "colab": {
          "base_uri": "https://localhost:8080/"
        }
      },
      "source": [
        "b=float(8.23)\n",
        "print(b)"
      ],
      "execution_count": 7,
      "outputs": [
        {
          "output_type": "stream",
          "name": "stdout",
          "text": [
            "8.23\n"
          ]
        }
      ]
    },
    {
      "cell_type": "markdown",
      "metadata": {
        "id": "N7Mt61PG5AQY"
      },
      "source": [
        "**Tipo Cadena**\n",
        "\n",
        "---\n",
        "Las cadenas son texto encerrado entre comillas (simples o dobles) y se pueden conformar de diferentes caractéres (Númericos, Alfabéticos, Especiales #$+*%). Tener en cuenta, las cadenas admiten operadores como la suma y la resta.\n",
        "(Variable String)\n"
      ]
    },
    {
      "cell_type": "code",
      "metadata": {
        "id": "9xD-73pX5xBd",
        "outputId": "1a504dff-ab02-46e0-ad62-499f5505e74a",
        "colab": {
          "base_uri": "https://localhost:8080/"
        }
      },
      "source": [
        "val2=\"Hola Mundo\"\n",
        "print(val2)\n",
        "val1=\"Luisa\"\n",
        "print(val1)\n",
        "\n"
      ],
      "execution_count": 10,
      "outputs": [
        {
          "output_type": "stream",
          "name": "stdout",
          "text": [
            "Hola Mundo\n",
            "Luisa\n"
          ]
        }
      ]
    },
    {
      "cell_type": "code",
      "metadata": {
        "id": "EvMRE6_K6Uha",
        "outputId": "eb5a3d2c-331c-43f8-c698-7231e5e8ccdc",
        "colab": {
          "base_uri": "https://localhost:8080/"
        }
      },
      "source": [
        "n=\"Aprender\"\n",
        "z=\"Python\"\n",
        "w=\"Aprender Python\"\n",
        "nz=n+\" \"+z\n",
        "print(w)\n",
        "\n",
        "q=\"5\"\n",
        "p=\"2\"\n",
        "b=int(q)\n",
        "c=int(p)\n",
        "print(b-c)\n"
      ],
      "execution_count": 16,
      "outputs": [
        {
          "output_type": "stream",
          "name": "stdout",
          "text": [
            "Aprender Python\n",
            "3\n"
          ]
        }
      ]
    },
    {
      "cell_type": "markdown",
      "metadata": {
        "id": "zUyeG_uM_aVi"
      },
      "source": [
        "**Tipo Booleano:**\n",
        "\n",
        "---\n",
        "\n",
        "\n",
        "Este tipo de variable solo tendra un valor de Verdadero o Falso.\n",
        "**Nota:**\n",
        "Son valores muy usados en condiciones y bucles.\n",
        "\n",
        "\n"
      ]
    },
    {
      "cell_type": "code",
      "metadata": {
        "id": "tt9V2c-INlCB"
      },
      "source": [
        ""
      ],
      "execution_count": null,
      "outputs": []
    }
  ]
}