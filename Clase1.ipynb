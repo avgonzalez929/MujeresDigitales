{
  "nbformat": 4,
  "nbformat_minor": 0,
  "metadata": {
    "colab": {
      "name": "Clase1.ipynb",
      "provenance": [],
      "authorship_tag": "ABX9TyNcP9HpVENFUl81OREovD+4",
      "include_colab_link": true
    },
    "kernelspec": {
      "name": "python3",
      "display_name": "Python 3"
    },
    "language_info": {
      "name": "python"
    }
  },
  "cells": [
    {
      "cell_type": "markdown",
      "metadata": {
        "id": "view-in-github",
        "colab_type": "text"
      },
      "source": [
        "<a href=\"https://colab.research.google.com/github/avgonzalez929/MujeresDigitales/blob/main/Clase1.ipynb\" target=\"_parent\"><img src=\"https://colab.research.google.com/assets/colab-badge.svg\" alt=\"Open In Colab\"/></a>"
      ]
    },
    {
      "cell_type": "markdown",
      "metadata": {
        "id": "F2D8dvwez0pS"
      },
      "source": [
        "**Introducción**\n",
        "\n",
        "---\n",
        "Para manejar un código limpio en Python:\n",
        "Podemos seguir las siguientes recomendaciones:\n",
        "\n",
        "1. Manejar siempre minuscula\n",
        "2. Se les puede añadir números\n",
        "3. Aparecera errror si no están seguidos la declaración de la variable con el número asignado, es decir. Ejemplo: ana1 (correcto) ana 1 (incorrecto- error).\n",
        "\n",
        "En python hay varios tipos de datos compuestos y están disponibles por defecto en los intérpretes.\n",
        "**¿De que tipos?**\n",
        "1. Númericos\n",
        "2. Secuencias\n",
        "3. Mapeos\n",
        "4. Conjuntos usados para agrupar varios valores.\n",
        "\n",
        "**Diferencia entre Constantes y Variables**\n",
        "En mátematicas llamamos constante a una magnitud que no cambia con el paso del tiempo.\n",
        "Ejemplo: Contabilidad: Gastos Fijos_Muebles de oficina\n",
        "Ejemplo 2: 6\n",
        "\n",
        "Por otro lado, el concepto de variable, como la cantidad que es suceptible a tomar distintos valores númericos.\n",
        "**Ejemplo**:\n",
        "\n",
        "\n"
      ]
    },
    {
      "cell_type": "code",
      "metadata": {
        "colab": {
          "base_uri": "https://localhost:8080/"
        },
        "id": "A4Xr7aHZ2G-L",
        "outputId": "54a81968-f364-41f8-d7d1-f4f32216b453"
      },
      "source": [
        "x=80\n",
        "print(x,type(x))"
      ],
      "execution_count": 21,
      "outputs": [
        {
          "output_type": "stream",
          "name": "stdout",
          "text": [
            "80 <class 'int'>\n"
          ]
        }
      ]
    },
    {
      "cell_type": "markdown",
      "metadata": {
        "id": "DUU_rU2l3HdZ"
      },
      "source": [
        "**Tipos de datos**\n",
        "\n",
        "---\n",
        "**Enteros:**\n",
        "- Son los números que no tienen decimales\n",
        "- Pueden ser positivos y negativos\n",
        "\n"
      ]
    },
    {
      "cell_type": "code",
      "metadata": {
        "colab": {
          "base_uri": "https://localhost:8080/"
        },
        "id": "4GMqUHJ23mNz",
        "outputId": "42800d21-51e7-47f6-92e7-01fd7cdb761f"
      },
      "source": [
        "a=int(3.964)\n",
        "print(a,type(b))"
      ],
      "execution_count": 20,
      "outputs": [
        {
          "output_type": "stream",
          "name": "stdout",
          "text": [
            "3 <class 'float'>\n"
          ]
        }
      ]
    },
    {
      "cell_type": "markdown",
      "metadata": {
        "id": "c9efnvV13-Ci"
      },
      "source": [
        "El comando int es para hacer alusión a números enteros.\n",
        "A parte el comando float, permite valores con decimales.\n"
      ]
    },
    {
      "cell_type": "code",
      "metadata": {
        "colab": {
          "base_uri": "https://localhost:8080/"
        },
        "id": "de26nph-4qHG",
        "outputId": "64c100ab-67a2-411a-cae6-1ce4da22bc63"
      },
      "source": [
        "b=float(8.23)\n",
        "print(b,type(b))"
      ],
      "execution_count": 19,
      "outputs": [
        {
          "output_type": "stream",
          "name": "stdout",
          "text": [
            "8.23 <class 'float'>\n"
          ]
        }
      ]
    },
    {
      "cell_type": "markdown",
      "metadata": {
        "id": "N7Mt61PG5AQY"
      },
      "source": [
        "**Tipo Cadena**\n",
        "\n",
        "---\n",
        "Las cadenas son texto encerrado entre comillas (simples o dobles) y se pueden conformar de diferentes caractéres (Númericos, Alfabéticos, Especiales #$+*%). Tener en cuenta, las cadenas admiten operadores como la suma y la resta.\n",
        "(Variable String)\n"
      ]
    },
    {
      "cell_type": "code",
      "metadata": {
        "colab": {
          "base_uri": "https://localhost:8080/"
        },
        "id": "9xD-73pX5xBd",
        "outputId": "1a504dff-ab02-46e0-ad62-499f5505e74a"
      },
      "source": [
        "val2=\"Hola Mundo\"\n",
        "print(val2)\n",
        "val1=\"Luisa\"\n",
        "print(val1)\n",
        "\n"
      ],
      "execution_count": 10,
      "outputs": [
        {
          "output_type": "stream",
          "name": "stdout",
          "text": [
            "Hola Mundo\n",
            "Luisa\n"
          ]
        }
      ]
    },
    {
      "cell_type": "code",
      "metadata": {
        "colab": {
          "base_uri": "https://localhost:8080/"
        },
        "id": "EvMRE6_K6Uha",
        "outputId": "eb5a3d2c-331c-43f8-c698-7231e5e8ccdc"
      },
      "source": [
        "n=\"Aprender\"\n",
        "z=\"Python\"\n",
        "w=\"Aprender Python\"\n",
        "nz=n+\" \"+z\n",
        "print(w)\n",
        "\n",
        "q=\"5\"\n",
        "p=\"2\"\n",
        "b=int(q)\n",
        "c=int(p)\n",
        "print(b-c)\n"
      ],
      "execution_count": 16,
      "outputs": [
        {
          "output_type": "stream",
          "name": "stdout",
          "text": [
            "Aprender Python\n",
            "3\n"
          ]
        }
      ]
    },
    {
      "cell_type": "markdown",
      "metadata": {
        "id": "zUyeG_uM_aVi"
      },
      "source": [
        "**Tipo Booleano:**\n",
        "\n",
        "---\n",
        "\n",
        "\n",
        "Este tipo de variable solo tendra un valor de Verdadero o Falso.\n",
        "**Nota:**\n",
        "Son valores muy usados en condiciones y bucles.\n",
        "\n",
        "\n"
      ]
    },
    {
      "cell_type": "code",
      "metadata": {
        "id": "VcLwqEmREU6W",
        "outputId": "4b58e108-6228-4b3a-c18f-39382d8b1987",
        "colab": {
          "base_uri": "https://localhost:8080/"
        }
      },
      "source": [
        "lola=True\n",
        "print(\"El valor es verdadero:\",lola,\", el cual es de tipo\", type(lola))\n"
      ],
      "execution_count": 23,
      "outputs": [
        {
          "output_type": "stream",
          "name": "stdout",
          "text": [
            "El valor es verdadero: True , el cual es de tipo <class 'bool'>\n"
          ]
        }
      ]
    },
    {
      "cell_type": "markdown",
      "metadata": {
        "id": "IjCTCZKRF3zg"
      },
      "source": [
        "Python cuenta con tipos de datos que admiten colecciones:\n",
        "1. Listas\n",
        "2. Tuplas\n",
        "3. Diccionarios\n",
        "\n",
        "**Tipo de conjuntos:**\n",
        "Son una colección de datos sin elementos que se repiten:"
      ]
    },
    {
      "cell_type": "code",
      "metadata": {
        "id": "AEJorbIKGr3h",
        "outputId": "a5f666d9-b2b6-4af0-ee27-7841af27a837",
        "colab": {
          "base_uri": "https://localhost:8080/"
        }
      },
      "source": [
        "fru='Pera','manzana','naranja'\n",
        "color='morado','blanco','azul'\n",
        "print(fru,color)"
      ],
      "execution_count": 27,
      "outputs": [
        {
          "output_type": "stream",
          "name": "stdout",
          "text": [
            "('Pera', 'manzana', 'naranja') ('morado', 'blanco', 'azul')\n"
          ]
        }
      ]
    },
    {
      "cell_type": "markdown",
      "metadata": {
        "id": "aZlZUwz4HPxL"
      },
      "source": [
        "**Tipo Listas**\n",
        "\n",
        "---\n",
        "Son listas las que almacenan vectores.\n",
        "Las listas siempre empiezan a nombrarse desde el elemento cer(0). A partir de alli empieza el conteo.\n",
        "Ejemplo de listas en Python:\n"
      ]
    },
    {
      "cell_type": "code",
      "metadata": {
        "id": "aaQ6fMXEHpfu",
        "outputId": "ff7f7bbf-a1cf-46f4-f663-c65bc57cf159",
        "colab": {
          "base_uri": "https://localhost:8080/"
        }
      },
      "source": [
        "ines=['5','uva','lila','perro','celular','micro','botella','tetero','10']\n",
        "print(ines)\n",
        "fe=ines[0:6]\n",
        "\n",
        "print(fe)"
      ],
      "execution_count": 39,
      "outputs": [
        {
          "output_type": "stream",
          "name": "stdout",
          "text": [
            "['5', 'uva', 'lila', 'perro', 'celular', 'micro', 'botella', 'tetero', '10']\n",
            "['5', 'uva', 'lila', 'perro', 'celular', 'micro']\n"
          ]
        }
      ]
    },
    {
      "cell_type": "markdown",
      "metadata": {
        "id": "maUsmQgjJoaO"
      },
      "source": [
        "**Tipo Tuplas**\n",
        "\n",
        "---\n",
        "Es una lista que no se puede modificar despues de la creación de esta: \n",
        "Tuplas anidadas: Agrupación(Tuplas).\n"
      ]
    },
    {
      "cell_type": "code",
      "metadata": {
        "id": "bkUbyPu-Mogv",
        "outputId": "05428a85-10e0-40d5-e7aa-14967ba016e0",
        "colab": {
          "base_uri": "https://localhost:8080/"
        }
      },
      "source": [
        "tupla=23,28,'hello'\n",
        "print(tupla)\n",
        "otra=tupla,(1,2,3,4)\n",
        "print(otra)"
      ],
      "execution_count": 41,
      "outputs": [
        {
          "output_type": "stream",
          "name": "stdout",
          "text": [
            "(23, 28, 'hello')\n",
            "((23, 28, 'hello'), (1, 2, 3, 4))\n"
          ]
        }
      ]
    },
    {
      "cell_type": "markdown",
      "metadata": {
        "id": "vDioClIaOEkv"
      },
      "source": [
        "**Tipo Diccionarios**\n",
        "\n",
        "---\n",
        "Define los datos uno a uno entre un campo (ID - Identificador-Clave) y un valor:\n"
      ]
    },
    {
      "cell_type": "code",
      "metadata": {
        "id": "PtHjwxplPBZ4",
        "outputId": "e86c3b97-764f-40cc-ec48-c2796423df69",
        "colab": {
          "base_uri": "https://localhost:8080/"
        }
      },
      "source": [
        "datos_b={\n",
        "    \"nombres\":\"Diana\",\n",
        "    \"apellidos\":\"Perea\",\n",
        "    \"cedula\":\"2345671\",\n",
        "    \"est_civil\":\"viuda\",\n",
        "    \"lugar_nacimiento\":\"Neiva\",\n",
        "    \"fecha_nacimiento\":\"24/12/1980\",\n",
        "}\n",
        "print(\"ID del diccionario\", datos_b.keys())\n",
        "print(\"ID del diccionario\", datos_b.values())\n",
        "print(\"ID del diccionario\", datos_b.items())\n",
        "print(\"cedula de ciudadania:\", datos_b['cedula'])"
      ],
      "execution_count": 56,
      "outputs": [
        {
          "output_type": "stream",
          "name": "stdout",
          "text": [
            "ID del diccionario dict_keys(['nombres', 'apellidos', 'cedula', 'est_civil', 'lugar_nacimiento', 'fecha_nacimiento'])\n",
            "ID del diccionario dict_values(['Diana', 'Perea', '2345671', 'viuda', 'Neiva', '24/12/1980'])\n",
            "ID del diccionario dict_items([('nombres', 'Diana'), ('apellidos', 'Perea'), ('cedula', '2345671'), ('est_civil', 'viuda'), ('lugar_nacimiento', 'Neiva'), ('fecha_nacimiento', '24/12/1980')])\n",
            "cedula de ciudadania: 2345671\n"
          ]
        }
      ]
    },
    {
      "cell_type": "markdown",
      "metadata": {
        "id": "BHYbyy81Q62c"
      },
      "source": [
        "**Ejemplo práctico(Caracteristicas de los carros)**"
      ]
    },
    {
      "cell_type": "code",
      "metadata": {
        "id": "R5haO15HQ2GK",
        "outputId": "764ab4aa-1ca1-4b2b-9270-c7806b2c74ec",
        "colab": {
          "base_uri": "https://localhost:8080/"
        }
      },
      "source": [
        "carros_0={}\n",
        "carros_0['tam']='grande'\n",
        "carros_0['color']='negro'\n",
        "carros_0['marca']='Renault'\n",
        "carros_0['precio']=60\n",
        "\n",
        "carros_1={}\n",
        "carros_1['tam']='pequeño'\n",
        "carros_1['color']='blanco'\n",
        "carros_1['marca']='Chevrolet'\n",
        "carros_1['precio']=37\n",
        "print(carros_0)\n",
        "print(carros_1)\n",
        "\n",
        "compra0=carros_0['precio']\n",
        "compra1=carros_1['precio']\n",
        "compratotal=compra0+compra1\n",
        "print(\"La compra total fue de:\", compratotal)\n",
        "print(\"La compra total fue de:\"+ str(compratotal))"
      ],
      "execution_count": 52,
      "outputs": [
        {
          "output_type": "stream",
          "name": "stdout",
          "text": [
            "{'tam': 'grande', 'color': 'negro', 'marca': 'Renault', 'precio': 60}\n",
            "{'tam': 'pequeño', 'color': 'blanco', 'marca': 'Chevrolet', 'precio': 37}\n",
            "La compra total fue de: 97\n",
            "La compra total fue de:97\n"
          ]
        }
      ]
    },
    {
      "cell_type": "code",
      "metadata": {
        "id": "tt9V2c-INlCB"
      },
      "source": [
        ""
      ],
      "execution_count": null,
      "outputs": []
    }
  ]
}