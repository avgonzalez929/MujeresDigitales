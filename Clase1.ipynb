{
  "nbformat": 4,
  "nbformat_minor": 0,
  "metadata": {
    "colab": {
      "name": "Clase1.ipynb",
      "provenance": [],
      "authorship_tag": "ABX9TyM1YmKdVwiNZFDmqx27s7g8",
      "include_colab_link": true
    },
    "kernelspec": {
      "name": "python3",
      "display_name": "Python 3"
    },
    "language_info": {
      "name": "python"
    }
  },
  "cells": [
    {
      "cell_type": "markdown",
      "metadata": {
        "id": "view-in-github",
        "colab_type": "text"
      },
      "source": [
        "<a href=\"https://colab.research.google.com/github/avgonzalez929/MujeresDigitales/blob/main/Clase1.ipynb\" target=\"_parent\"><img src=\"https://colab.research.google.com/assets/colab-badge.svg\" alt=\"Open In Colab\"/></a>"
      ]
    },
    {
      "cell_type": "markdown",
      "metadata": {
        "id": "F2D8dvwez0pS"
      },
      "source": [
        "**Introducción**\n",
        "\n",
        "---\n",
        "En python hay varios tipos de datos compuestos y están disponibles por defecto en los intérpretes.\n",
        "**¿De que tipos?**\n",
        "1. Númericos\n",
        "2. Secuencias\n",
        "3. Mapeos\n",
        "4. Conjuntos usados para agrupar varios valores.\n",
        "\n",
        "**Diferencia entre Constantes y Variables**\n",
        "En mátematicas llamamos constante a una magnitud que no cambia con el paso del tiempo.\n",
        "Ejemplo: Contabilidad: Gastos Fijos_Muebles de oficina\n",
        "Ejemplo 2: 6\n",
        "\n",
        "Por otro lado, el concepto de variable, como la cantidad que es suceptible a tomar distintos valores númericos.\n",
        "**Ejemplo**:\n",
        "\n",
        "\n"
      ]
    },
    {
      "cell_type": "code",
      "metadata": {
        "id": "A4Xr7aHZ2G-L",
        "outputId": "56ae51e8-30c8-4afd-8af7-2e9b1d48a9aa",
        "colab": {
          "base_uri": "https://localhost:8080/"
        }
      },
      "source": [
        "x=5\n",
        "print(x)"
      ],
      "execution_count": 1,
      "outputs": [
        {
          "output_type": "stream",
          "name": "stdout",
          "text": [
            "5\n"
          ]
        }
      ]
    },
    {
      "cell_type": "code",
      "metadata": {
        "id": "tt9V2c-INlCB"
      },
      "source": [
        ""
      ],
      "execution_count": null,
      "outputs": []
    }
  ]
}