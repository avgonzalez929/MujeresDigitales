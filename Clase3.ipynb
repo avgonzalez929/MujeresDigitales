{
  "nbformat": 4,
  "nbformat_minor": 0,
  "metadata": {
    "colab": {
      "name": "Clase3.ipynb",
      "provenance": [],
      "authorship_tag": "ABX9TyNI4q8AGI3crZFX3wNiP3eu",
      "include_colab_link": true
    },
    "kernelspec": {
      "name": "python3",
      "display_name": "Python 3"
    },
    "language_info": {
      "name": "python"
    }
  },
  "cells": [
    {
      "cell_type": "markdown",
      "metadata": {
        "id": "view-in-github",
        "colab_type": "text"
      },
      "source": [
        "<a href=\"https://colab.research.google.com/github/avgonzalez929/MujeresDigitales/blob/main/Clase3.ipynb\" target=\"_parent\"><img src=\"https://colab.research.google.com/assets/colab-badge.svg\" alt=\"Open In Colab\"/></a>"
      ]
    },
    {
      "cell_type": "markdown",
      "metadata": {
        "id": "1qfVbx6z4HjU"
      },
      "source": [
        "**Estructura de condicionales (Control)**\n",
        "\n",
        "---\n",
        "Al momento de construir una instrucción de tipo condicional se deberá comprender que dichas instrucciones estaán diseñadas para ayudar a la toma de desiciones:\n",
        "\n",
        "Ejemplo:\n",
        "**Si** pedro va a la tienda por la izquierda llegará más rapido, sino se demorará más.\n",
        "\n",
        "Existen varios tipos de instrucciones, algunos pueden ser simples y otros múltiples.\n",
        "Sin embargo solo se generan dos resultados.\n",
        "1. Verdadero\n",
        "2. Falso\n",
        "\n",
        "En python tales resultados serían True o False.\n"
      ]
    },
    {
      "cell_type": "markdown",
      "metadata": {
        "id": "p9VaPTT47J1j"
      },
      "source": [
        "Para aplicar los condicionales que veremos a continuación debemos recordar los comandos de operadores matemáticos vistos la clase anterior:\n",
        "\n",
        "1. Igualdad (==) // 2==7 // False\n",
        "2. Diferencia (!=) // rosado!=verde // True\n",
        "3. Menor que (<) // 12<11 // False\n",
        "4. Mayor que (>) // 1>1.5 // False\n",
        "5. Menor o igual que (<=) // 30<=30 // True\n",
        "6. Mayor o igual que (>=) // 1>=2 // False\n",
        "\n"
      ]
    },
    {
      "cell_type": "code",
      "metadata": {
        "id": "vAXask3N9p8P"
      },
      "source": [
        ""
      ],
      "execution_count": null,
      "outputs": []
    }
  ]
}