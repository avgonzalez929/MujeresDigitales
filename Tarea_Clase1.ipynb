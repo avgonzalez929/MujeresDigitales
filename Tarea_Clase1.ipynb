{
  "nbformat": 4,
  "nbformat_minor": 0,
  "metadata": {
    "colab": {
      "name": "Tarea Clase1.ipynb",
      "provenance": [],
      "authorship_tag": "ABX9TyMXVh+c2m07/uPSPAvdk3GY",
      "include_colab_link": true
    },
    "kernelspec": {
      "name": "python3",
      "display_name": "Python 3"
    },
    "language_info": {
      "name": "python"
    }
  },
  "cells": [
    {
      "cell_type": "markdown",
      "metadata": {
        "id": "view-in-github",
        "colab_type": "text"
      },
      "source": [
        "<a href=\"https://colab.research.google.com/github/avgonzalez929/MujeresDigitales/blob/main/Tarea_Clase1.ipynb\" target=\"_parent\"><img src=\"https://colab.research.google.com/assets/colab-badge.svg\" alt=\"Open In Colab\"/></a>"
      ]
    },
    {
      "cell_type": "markdown",
      "metadata": {
        "id": "emUz8idfwhJz"
      },
      "source": [
        "**Tipo Entero**\n",
        "\n"
      ]
    },
    {
      "cell_type": "code",
      "metadata": {
        "colab": {
          "base_uri": "https://localhost:8080/"
        },
        "id": "0lSKXO5pwofH",
        "outputId": "b3d49909-2874-4b79-a447-a3ba7c098dbb"
      },
      "source": [
        "a=int(9.395)\n",
        "print(a)\n",
        "\n",
        "b=int(13)\n",
        "print(b, type(b))\n",
        "\n"
      ],
      "execution_count": 7,
      "outputs": [
        {
          "output_type": "stream",
          "name": "stdout",
          "text": [
            "9\n",
            "13 <class 'int'>\n"
          ]
        }
      ]
    },
    {
      "cell_type": "markdown",
      "metadata": {
        "id": "jauEK_45xdx8"
      },
      "source": [
        "**Tipo Float**"
      ]
    },
    {
      "cell_type": "code",
      "metadata": {
        "colab": {
          "base_uri": "https://localhost:8080/"
        },
        "id": "t-jrvk7MxiP9",
        "outputId": "c1e6d384-19bb-430a-a8c9-9c3ec8cdd8ae"
      },
      "source": [
        "a=float(12.395)\n",
        "print(a)\n",
        "\n",
        "b=float(9.999)\n",
        "print(b, type(b))"
      ],
      "execution_count": 9,
      "outputs": [
        {
          "output_type": "stream",
          "name": "stdout",
          "text": [
            "12.395\n",
            "9.999 <class 'float'>\n"
          ]
        }
      ]
    },
    {
      "cell_type": "markdown",
      "metadata": {
        "id": "AZqNbXVLx3Ss"
      },
      "source": [
        "**Tipo Cadena**"
      ]
    },
    {
      "cell_type": "code",
      "metadata": {
        "colab": {
          "base_uri": "https://localhost:8080/"
        },
        "id": "F-Y9SUBcyBq6",
        "outputId": "2fec6f84-6278-498a-8f1c-b18fea1393fb"
      },
      "source": [
        "a=\"Bienvenido\"\n",
        "b=\"Carlos\"\n",
        "print(a,b)\n",
        "\n",
        "val1=\"Usuario\"\n",
        "print(val1)\n",
        "val2=\"Contraseña\"\n",
        "print(val2)\n"
      ],
      "execution_count": 14,
      "outputs": [
        {
          "output_type": "stream",
          "name": "stdout",
          "text": [
            "Bienvenido Carlos\n",
            "Usuario\n",
            "Contraseña\n"
          ]
        }
      ]
    },
    {
      "cell_type": "markdown",
      "metadata": {
        "id": "gKyHt5GQzXWG"
      },
      "source": [
        "**Tipo Booleano**"
      ]
    },
    {
      "cell_type": "code",
      "metadata": {
        "colab": {
          "base_uri": "https://localhost:8080/"
        },
        "id": "NkZgRDrQzcty",
        "outputId": "abfa37fa-e0e9-4ca0-a1ab-c5aba6dbdd0c"
      },
      "source": [
        "a=True\n",
        "print(\"El valor de a es:\", a)\n",
        "\n",
        "b=False\n",
        "print(\"El valor de b es:\", b,\", el cual es de tipo\", type(b))"
      ],
      "execution_count": 16,
      "outputs": [
        {
          "output_type": "stream",
          "name": "stdout",
          "text": [
            "El valor de a es: True\n",
            "El valor de b es: False , el cual es de tipo <class 'bool'>\n"
          ]
        }
      ]
    },
    {
      "cell_type": "markdown",
      "metadata": {
        "id": "kJihKit80DND"
      },
      "source": [
        "**Tipo conjuntos**\n"
      ]
    },
    {
      "cell_type": "code",
      "metadata": {
        "colab": {
          "base_uri": "https://localhost:8080/"
        },
        "id": "PfEukSUg0Ozx",
        "outputId": "269b5d21-51ab-404a-c542-4a3e9cadb43d"
      },
      "source": [
        "pais='Colombia','Argentina','Mexico','Ecuador','Venezuela'\n",
        "ciud='Bogota','Buenos Aires','Ciudad de Mexico','Quito','Caracas'\n",
        "print(pais,ciud)"
      ],
      "execution_count": 17,
      "outputs": [
        {
          "output_type": "stream",
          "name": "stdout",
          "text": [
            "('Colombia', 'Argentina', 'Mexico', 'Ecuador', 'Venezuela') ('Bogota', 'Buenos Aires', 'Ciudad de Mexico', 'Quito', 'Caracas')\n"
          ]
        }
      ]
    },
    {
      "cell_type": "markdown",
      "metadata": {
        "id": "_IBr91uN1oUl"
      },
      "source": [
        "**Tipo Listas**"
      ]
    },
    {
      "cell_type": "code",
      "metadata": {
        "id": "vwqJxnUu1qdr"
      },
      "source": [
        ""
      ],
      "execution_count": null,
      "outputs": []
    },
    {
      "cell_type": "markdown",
      "metadata": {
        "id": "UOiJHLbvxY2w"
      },
      "source": [
        ""
      ]
    },
    {
      "cell_type": "code",
      "metadata": {
        "id": "Auf98XhcvvkE"
      },
      "source": [
        "()"
      ],
      "execution_count": null,
      "outputs": []
    }
  ]
}