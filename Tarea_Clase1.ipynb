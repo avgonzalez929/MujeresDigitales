{
  "nbformat": 4,
  "nbformat_minor": 0,
  "metadata": {
    "colab": {
      "name": "Tarea Clase1.ipynb",
      "provenance": [],
      "authorship_tag": "ABX9TyNlhzVjWi+43IKKVSucXtXf",
      "include_colab_link": true
    },
    "kernelspec": {
      "name": "python3",
      "display_name": "Python 3"
    },
    "language_info": {
      "name": "python"
    }
  },
  "cells": [
    {
      "cell_type": "markdown",
      "metadata": {
        "id": "view-in-github",
        "colab_type": "text"
      },
      "source": [
        "<a href=\"https://colab.research.google.com/github/avgonzalez929/MujeresDigitales/blob/main/Tarea_Clase1.ipynb\" target=\"_parent\"><img src=\"https://colab.research.google.com/assets/colab-badge.svg\" alt=\"Open In Colab\"/></a>"
      ]
    },
    {
      "cell_type": "markdown",
      "metadata": {
        "id": "emUz8idfwhJz"
      },
      "source": [
        "**Tipo Entero**\n",
        "\n"
      ]
    },
    {
      "cell_type": "code",
      "metadata": {
        "colab": {
          "base_uri": "https://localhost:8080/"
        },
        "id": "0lSKXO5pwofH",
        "outputId": "b3d49909-2874-4b79-a447-a3ba7c098dbb"
      },
      "source": [
        "a=int(9.395)\n",
        "print(a)\n",
        "\n",
        "b=int(13)\n",
        "print(b, type(b))\n",
        "\n"
      ],
      "execution_count": 7,
      "outputs": [
        {
          "output_type": "stream",
          "name": "stdout",
          "text": [
            "9\n",
            "13 <class 'int'>\n"
          ]
        }
      ]
    },
    {
      "cell_type": "markdown",
      "metadata": {
        "id": "jauEK_45xdx8"
      },
      "source": [
        "**Tipo Float**"
      ]
    },
    {
      "cell_type": "code",
      "metadata": {
        "colab": {
          "base_uri": "https://localhost:8080/"
        },
        "id": "t-jrvk7MxiP9",
        "outputId": "c1e6d384-19bb-430a-a8c9-9c3ec8cdd8ae"
      },
      "source": [
        "a=float(12.395)\n",
        "print(a)\n",
        "\n",
        "b=float(9.999)\n",
        "print(b, type(b))"
      ],
      "execution_count": 9,
      "outputs": [
        {
          "output_type": "stream",
          "name": "stdout",
          "text": [
            "12.395\n",
            "9.999 <class 'float'>\n"
          ]
        }
      ]
    },
    {
      "cell_type": "markdown",
      "metadata": {
        "id": "AZqNbXVLx3Ss"
      },
      "source": [
        "**Tipo Cadena**"
      ]
    },
    {
      "cell_type": "code",
      "metadata": {
        "colab": {
          "base_uri": "https://localhost:8080/"
        },
        "id": "F-Y9SUBcyBq6",
        "outputId": "2fec6f84-6278-498a-8f1c-b18fea1393fb"
      },
      "source": [
        "a=\"Bienvenido\"\n",
        "b=\"Carlos\"\n",
        "print(a,b)\n",
        "\n",
        "val1=\"Usuario\"\n",
        "print(val1)\n",
        "val2=\"Contraseña\"\n",
        "print(val2)\n"
      ],
      "execution_count": 14,
      "outputs": [
        {
          "output_type": "stream",
          "name": "stdout",
          "text": [
            "Bienvenido Carlos\n",
            "Usuario\n",
            "Contraseña\n"
          ]
        }
      ]
    },
    {
      "cell_type": "markdown",
      "metadata": {
        "id": "gKyHt5GQzXWG"
      },
      "source": [
        "**Tipo Booleano**"
      ]
    },
    {
      "cell_type": "code",
      "metadata": {
        "colab": {
          "base_uri": "https://localhost:8080/"
        },
        "id": "NkZgRDrQzcty",
        "outputId": "abfa37fa-e0e9-4ca0-a1ab-c5aba6dbdd0c"
      },
      "source": [
        "a=True\n",
        "print(\"El valor de a es:\", a)\n",
        "\n",
        "b=False\n",
        "print(\"El valor de b es:\", b,\", el cual es de tipo\", type(b))"
      ],
      "execution_count": 16,
      "outputs": [
        {
          "output_type": "stream",
          "name": "stdout",
          "text": [
            "El valor de a es: True\n",
            "El valor de b es: False , el cual es de tipo <class 'bool'>\n"
          ]
        }
      ]
    },
    {
      "cell_type": "markdown",
      "metadata": {
        "id": "kJihKit80DND"
      },
      "source": [
        "**Tipo conjuntos**\n"
      ]
    },
    {
      "cell_type": "code",
      "metadata": {
        "colab": {
          "base_uri": "https://localhost:8080/"
        },
        "id": "PfEukSUg0Ozx",
        "outputId": "269b5d21-51ab-404a-c542-4a3e9cadb43d"
      },
      "source": [
        "pais='Colombia','Argentina','Mexico','Ecuador','Venezuela'\n",
        "ciud='Bogota','Buenos Aires','Ciudad de Mexico','Quito','Caracas'\n",
        "print(pais,ciud)"
      ],
      "execution_count": 17,
      "outputs": [
        {
          "output_type": "stream",
          "name": "stdout",
          "text": [
            "('Colombia', 'Argentina', 'Mexico', 'Ecuador', 'Venezuela') ('Bogota', 'Buenos Aires', 'Ciudad de Mexico', 'Quito', 'Caracas')\n"
          ]
        }
      ]
    },
    {
      "cell_type": "markdown",
      "metadata": {
        "id": "_IBr91uN1oUl"
      },
      "source": [
        "**Tipo Listas**"
      ]
    },
    {
      "cell_type": "code",
      "metadata": {
        "colab": {
          "base_uri": "https://localhost:8080/"
        },
        "id": "vwqJxnUu1qdr",
        "outputId": "f938cdbc-51e4-43a1-ce5e-2777f9dadfca"
      },
      "source": [
        "parque=['arboles','culumpio','rodadero','tobogan','saltarin','niños']\n",
        "print(parque)\n",
        "fe=parque[4]\n",
        "print(fe)\n",
        "\n",
        "casa=['alcoba','patio','baño','cocina','balcón','sala','estudio']\n",
        "print(casa)\n",
        "fe=casa[0:5]\n",
        "print(fe)"
      ],
      "execution_count": 21,
      "outputs": [
        {
          "output_type": "stream",
          "name": "stdout",
          "text": [
            "['arboles', 'culumpio', 'rodadero', 'tobogan', 'saltarin', 'niños']\n",
            "saltarin\n",
            "['alcoba', 'patio', 'baño', 'cocina', 'balcón', 'sala', 'estudio']\n",
            "['alcoba', 'patio', 'baño', 'cocina', 'balcón']\n"
          ]
        }
      ]
    },
    {
      "cell_type": "markdown",
      "metadata": {
        "id": "VtdVY83y24tq"
      },
      "source": [
        "**Tipo Tuplas**"
      ]
    },
    {
      "cell_type": "code",
      "metadata": {
        "colab": {
          "base_uri": "https://localhost:8080/"
        },
        "id": "wINxNGfv2-G3",
        "outputId": "17172944-1f28-468a-ccb6-ac2f004f629b"
      },
      "source": [
        "tupla1=1,2,3,4,5,6\n",
        "print(tupla1)\n",
        "tupla2=tupla1,('primero','segundo','tercero','cuarto','quinto','sexto')\n",
        "print(tupla2)"
      ],
      "execution_count": 22,
      "outputs": [
        {
          "output_type": "stream",
          "name": "stdout",
          "text": [
            "(1, 2, 3, 4, 5, 6)\n",
            "((1, 2, 3, 4, 5, 6), ('primero', 'segundo', 'tercero', 'cuarto', 'quinto', 'sexto'))\n"
          ]
        }
      ]
    },
    {
      "cell_type": "markdown",
      "metadata": {
        "id": "cf-ZGY9o3iy6"
      },
      "source": [
        "**Tipo Diccionario**\n"
      ]
    },
    {
      "cell_type": "code",
      "metadata": {
        "colab": {
          "base_uri": "https://localhost:8080/"
        },
        "id": "behB4Zr03nNt",
        "outputId": "3c0e8db3-0924-4fef-c6ae-87e5dd9b7c3a"
      },
      "source": [
        "estudiante_e={\n",
        "    \"nombres\":\"Johan Sebastian\",\n",
        "    \"apellidos\":\"Orjuela Rivera\",\n",
        "    \"cedula\":\"1014058500\",\n",
        "    \"est_civil\":\"casado\",\n",
        "    \"celular\":\"3117813113\",\n",
        "    \"lugar_nacimiento\":\"Bogota\",\n",
        "    \"fecha_nacimiento\":\"31/10/1995\",\n",
        "}\n",
        "print(\"ID del diccionario\", estudiante_e.keys())\n",
        "print(\"ID del diccionario\", estudiante_e.values())\n",
        "print(\"ID del diccionario\", estudiante_e.items())\n",
        "print(\"Numero de celular:\", estudiante_e['celular'])"
      ],
      "execution_count": 27,
      "outputs": [
        {
          "output_type": "stream",
          "name": "stdout",
          "text": [
            "ID del diccionario dict_keys(['nombres', 'apellidos', 'cedula', 'est_civil', 'celular', 'lugar_nacimiento', 'fecha_nacimiento'])\n",
            "ID del diccionario dict_values(['Johan Sebastian', 'Orjuela Rivera', '1014058500', 'casado', '3117813113', 'Bogota', '31/10/1995'])\n",
            "ID del diccionario dict_items([('nombres', 'Johan Sebastian'), ('apellidos', 'Orjuela Rivera'), ('cedula', '1014058500'), ('est_civil', 'casado'), ('celular', '3117813113'), ('lugar_nacimiento', 'Bogota'), ('fecha_nacimiento', '31/10/1995')])\n",
            "Numero de celular: 3117813113\n"
          ]
        }
      ]
    },
    {
      "cell_type": "code",
      "metadata": {
        "colab": {
          "base_uri": "https://localhost:8080/"
        },
        "id": "g4tbKRwB5OWq",
        "outputId": "aae2ab5a-7d57-42ab-c878-e283a08b8126"
      },
      "source": [
        "casa_0={}\n",
        "casa_0['tam']='grande'\n",
        "casa_0['alcobas']='3'\n",
        "casa_0['baños']='2'\n",
        "casa_0['lugar']='Medellin'\n",
        "casa_0['precio']=140\n",
        "\n",
        "casa_1={}\n",
        "casa_1['tam']='pequeña'\n",
        "casa_1['alcobas']='1'\n",
        "casa_1['baños']='1'\n",
        "casa_1['lugar']='Bogota'\n",
        "casa_1['precio']=120\n",
        "print(casa_0)\n",
        "print(casa_1)\n",
        "\n",
        "compra0=casa_0['precio']\n",
        "compra1=casa_1['precio']\n",
        "compratotal=compra0+compra1\n",
        "print(\"La compra total fue de:\"+ str(compratotal))"
      ],
      "execution_count": 28,
      "outputs": [
        {
          "output_type": "stream",
          "name": "stdout",
          "text": [
            "{'tam': 'grande', 'alcobas': '3', 'baños': '2', 'lugar': 'Medellin', 'precio': 140}\n",
            "{'tam': 'pequeña', 'alcobas': '1', 'baños': '1', 'lugar': 'Bogota', 'precio': 120}\n",
            "La compra total fue de:260\n"
          ]
        }
      ]
    },
    {
      "cell_type": "markdown",
      "metadata": {
        "id": "UOiJHLbvxY2w"
      },
      "source": [
        ""
      ]
    },
    {
      "cell_type": "code",
      "metadata": {
        "id": "Auf98XhcvvkE"
      },
      "source": [
        "()"
      ],
      "execution_count": null,
      "outputs": []
    }
  ]
}