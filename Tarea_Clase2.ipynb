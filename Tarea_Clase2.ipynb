{
  "nbformat": 4,
  "nbformat_minor": 0,
  "metadata": {
    "colab": {
      "name": "Tarea Clase2.ipynb",
      "provenance": [],
      "authorship_tag": "ABX9TyPjJNnrqVRaF0qbOWtVNaRV",
      "include_colab_link": true
    },
    "kernelspec": {
      "name": "python3",
      "display_name": "Python 3"
    },
    "language_info": {
      "name": "python"
    }
  },
  "cells": [
    {
      "cell_type": "markdown",
      "metadata": {
        "id": "view-in-github",
        "colab_type": "text"
      },
      "source": [
        "<a href=\"https://colab.research.google.com/github/avgonzalez929/MujeresDigitales/blob/main/Tarea_Clase2.ipynb\" target=\"_parent\"><img src=\"https://colab.research.google.com/assets/colab-badge.svg\" alt=\"Open In Colab\"/></a>"
      ]
    },
    {
      "cell_type": "markdown",
      "metadata": {
        "id": "JZbkTirz8Rej"
      },
      "source": [
        "**EJERCICIOS**\n",
        "\n",
        "1."
      ]
    },
    {
      "cell_type": "code",
      "metadata": {
        "id": "Ynmh1hTW8Yvi"
      },
      "source": [
        ""
      ],
      "execution_count": null,
      "outputs": []
    },
    {
      "cell_type": "code",
      "metadata": {
        "id": "bzk-Ebrt8J0A"
      },
      "source": [
        ""
      ],
      "execution_count": null,
      "outputs": []
    }
  ]
}