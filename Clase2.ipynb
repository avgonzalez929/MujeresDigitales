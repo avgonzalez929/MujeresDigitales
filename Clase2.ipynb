{
  "nbformat": 4,
  "nbformat_minor": 0,
  "metadata": {
    "colab": {
      "name": "Clase2.ipynb",
      "provenance": [],
      "authorship_tag": "ABX9TyOQEJmfxj29rurYzS/a4Yt4",
      "include_colab_link": true
    },
    "kernelspec": {
      "name": "python3",
      "display_name": "Python 3"
    },
    "language_info": {
      "name": "python"
    }
  },
  "cells": [
    {
      "cell_type": "markdown",
      "metadata": {
        "id": "view-in-github",
        "colab_type": "text"
      },
      "source": [
        "<a href=\"https://colab.research.google.com/github/avgonzalez929/MujeresDigitales/blob/main/Clase2.ipynb\" target=\"_parent\"><img src=\"https://colab.research.google.com/assets/colab-badge.svg\" alt=\"Open In Colab\"/></a>"
      ]
    },
    {
      "cell_type": "markdown",
      "metadata": {
        "id": "CW-2RATv8DZB"
      },
      "source": [
        "**Operadores Aritméticos**\n",
        "\n",
        "---\n",
        "Los operadores permiten realizar diferentes procesos de cálculo en cualquier lenguaje de programación.\n",
        "\n",
        "Los operadores mas basicos son:\n",
        "1. Suma\n",
        "2. Resta\n",
        "3. Multiplicación\n",
        "4. División\n"
      ]
    },
    {
      "cell_type": "markdown",
      "metadata": {
        "id": "2K2FjFIs850J"
      },
      "source": [
        "**Suma y Resta**\n",
        "\n",
        "---\n",
        "Símbolo suma(+) el cual se utilizará en medio de la declaración de las variables a operar.\n",
        "\n",
        "Símbolo resta(-)\n"
      ]
    },
    {
      "cell_type": "code",
      "metadata": {
        "colab": {
          "base_uri": "https://localhost:8080/"
        },
        "id": "H5lzXiGV_LgN",
        "outputId": "433ba0be-cb0f-4e4d-da15-940cd5228e08"
      },
      "source": [
        "print(10+300)\n",
        "a=20\n",
        "b=35\n",
        "print(a+b)\n",
        "\n",
        "print(10-300)\n",
        "a=20\n",
        "b=35\n",
        "print(a-b)"
      ],
      "execution_count": null,
      "outputs": [
        {
          "output_type": "stream",
          "name": "stdout",
          "text": [
            "310\n",
            "55\n",
            "-290\n",
            "-15\n"
          ]
        }
      ]
    },
    {
      "cell_type": "code",
      "metadata": {
        "colab": {
          "base_uri": "https://localhost:8080/"
        },
        "id": "G_KcXtbe_xmh",
        "outputId": "d30dc530-77c1-444b-d76f-b8991244f3f8"
      },
      "source": [
        "numero_botellas=12\n",
        "print(numero_botellas + 8)"
      ],
      "execution_count": null,
      "outputs": [
        {
          "output_type": "stream",
          "name": "stdout",
          "text": [
            "20\n"
          ]
        }
      ]
    },
    {
      "cell_type": "code",
      "metadata": {
        "colab": {
          "base_uri": "https://localhost:8080/"
        },
        "id": "dzDmc67g__br",
        "outputId": "36f5be74-602d-4d4e-d2a9-acaf040b17c9"
      },
      "source": [
        "numero_botellas=12\n",
        "numero_botellas=numero_botellas + 8\n",
        "print(numero_botellas)"
      ],
      "execution_count": null,
      "outputs": [
        {
          "output_type": "stream",
          "name": "stdout",
          "text": [
            "20\n"
          ]
        }
      ]
    },
    {
      "cell_type": "markdown",
      "metadata": {
        "id": "I-06p6T7Ahrk"
      },
      "source": [
        "**Sumas entre los diferentes tipos de variables**\n",
        "\n",
        "---\n",
        "Recordemos los tipos de variables que vimos ayer:\n",
        "1. Declaracion de variables númericas enteras\n",
        "2. Flotantes(incorpora y flexibiliza los decimales)\n",
        "3. Tipo cadena\n",
        "\n"
      ]
    },
    {
      "cell_type": "code",
      "metadata": {
        "colab": {
          "base_uri": "https://localhost:8080/"
        },
        "id": "yw9bBcskCQ8F",
        "outputId": "bd06dadc-f7fb-4d1c-bc5c-c20d6c650932"
      },
      "source": [
        "q1=100\n",
        "q2=24.5\n",
        "print(type(q1+q2))"
      ],
      "execution_count": null,
      "outputs": [
        {
          "output_type": "stream",
          "name": "stdout",
          "text": [
            "<class 'float'>\n"
          ]
        }
      ]
    },
    {
      "cell_type": "code",
      "metadata": {
        "colab": {
          "base_uri": "https://localhost:8080/"
        },
        "id": "JIFK8psdCq27",
        "outputId": "2e48fce9-067c-49ec-c526-877632a1b801"
      },
      "source": [
        "v1=\"quiero\"\n",
        "v2=\"un celular\"\n",
        "print(v1,v2)"
      ],
      "execution_count": null,
      "outputs": [
        {
          "output_type": "stream",
          "name": "stdout",
          "text": [
            "quiero un celular\n"
          ]
        }
      ]
    },
    {
      "cell_type": "code",
      "metadata": {
        "id": "1jPkqPHwDyG1",
        "colab": {
          "base_uri": "https://localhost:8080/"
        },
        "outputId": "ad745d5a-36e4-4e5d-dec1-cf10eb649cd8"
      },
      "source": [
        "xq2=235\n",
        "xq3=400\n",
        "print(xq2-xq3)\n",
        "\n",
        "xq2=24.66\n",
        "xq3=4\n",
        "print(type(xq2-xq3))"
      ],
      "execution_count": 4,
      "outputs": [
        {
          "output_type": "stream",
          "name": "stdout",
          "text": [
            "-165\n",
            "<class 'float'>\n"
          ]
        }
      ]
    },
    {
      "cell_type": "markdown",
      "metadata": {
        "id": "ZOcGwb1sugBF"
      },
      "source": [
        "**IMPORTANTE**\n",
        "La resta no funciona directamente para variables tipo cadena."
      ]
    },
    {
      "cell_type": "code",
      "metadata": {
        "colab": {
          "base_uri": "https://localhost:8080/",
          "height": 197
        },
        "id": "MIDgrjE0uvJW",
        "outputId": "6a1613dc-193a-40d1-9375-7a020c52a26f"
      },
      "source": [
        "v1=\"5\"\n",
        "v2=\"2.3\"\n",
        "print(v1-v2)"
      ],
      "execution_count": 7,
      "outputs": [
        {
          "output_type": "error",
          "ename": "TypeError",
          "evalue": "ignored",
          "traceback": [
            "\u001b[0;31m---------------------------------------------------------------------------\u001b[0m",
            "\u001b[0;31mTypeError\u001b[0m                                 Traceback (most recent call last)",
            "\u001b[0;32m<ipython-input-7-7b39ca26ff3c>\u001b[0m in \u001b[0;36m<module>\u001b[0;34m()\u001b[0m\n\u001b[1;32m      1\u001b[0m \u001b[0mv1\u001b[0m\u001b[0;34m=\u001b[0m\u001b[0;34m\"5\"\u001b[0m\u001b[0;34m\u001b[0m\u001b[0;34m\u001b[0m\u001b[0m\n\u001b[1;32m      2\u001b[0m \u001b[0mv2\u001b[0m\u001b[0;34m=\u001b[0m\u001b[0;34m\"2.3\"\u001b[0m\u001b[0;34m\u001b[0m\u001b[0;34m\u001b[0m\u001b[0m\n\u001b[0;32m----> 3\u001b[0;31m \u001b[0mprint\u001b[0m\u001b[0;34m(\u001b[0m\u001b[0mv1\u001b[0m\u001b[0;34m-\u001b[0m\u001b[0mv2\u001b[0m\u001b[0;34m)\u001b[0m\u001b[0;34m\u001b[0m\u001b[0;34m\u001b[0m\u001b[0m\n\u001b[0m",
            "\u001b[0;31mTypeError\u001b[0m: unsupported operand type(s) for -: 'str' and 'str'"
          ]
        }
      ]
    },
    {
      "cell_type": "markdown",
      "metadata": {
        "id": "lIjdGQGZvud1"
      },
      "source": [
        "**Multiplicación**\n",
        "\n",
        "---\n",
        "Definamos la multiplicación como la suma de varias veces un número, cantidad de veces indicadas por el otro número. Ejemplo: 4x2=4+4=8\n",
        "El símbolo que se maneja es (*)\n"
      ]
    },
    {
      "cell_type": "code",
      "metadata": {
        "colab": {
          "base_uri": "https://localhost:8080/"
        },
        "id": "CUOujZBFwRCs",
        "outputId": "e27264bf-f43b-462b-9090-415dc2b60e8a"
      },
      "source": [
        "cali=5\n",
        "palmira=6\n",
        "print(cali*palmira)"
      ],
      "execution_count": 8,
      "outputs": [
        {
          "output_type": "stream",
          "name": "stdout",
          "text": [
            "30\n"
          ]
        }
      ]
    },
    {
      "cell_type": "markdown",
      "metadata": {
        "id": "PhLc5_6nwk67"
      },
      "source": [
        "**IMPORTANTE**\n",
        "Se aplica la ley conmutativa.\n",
        "Recodemos que la ley conmutativa es que el orden de los factores no altera el resultado (Aplica para suma y multiplicación)"
      ]
    },
    {
      "cell_type": "code",
      "metadata": {
        "colab": {
          "base_uri": "https://localhost:8080/"
        },
        "id": "rGq7D9jmw890",
        "outputId": "50e4c292-58d2-4e30-a586-7517b3cea451"
      },
      "source": [
        "cali=5\n",
        "palmira=6\n",
        "print(palmira*cali)"
      ],
      "execution_count": 9,
      "outputs": [
        {
          "output_type": "stream",
          "name": "stdout",
          "text": [
            "30\n"
          ]
        }
      ]
    },
    {
      "cell_type": "markdown",
      "metadata": {
        "id": "OOxPSs6LxK1R"
      },
      "source": [
        "**División**\n",
        "\n",
        "---\n",
        "ACLARACIÓN: **NO** aplica la ley conmutativa. El símbolo de división es (/).\n"
      ]
    },
    {
      "cell_type": "code",
      "metadata": {
        "colab": {
          "base_uri": "https://localhost:8080/"
        },
        "id": "vpW5glEcxcnt",
        "outputId": "2e215bfb-13e1-4d76-cd6a-eee50a75cf1f"
      },
      "source": [
        "a=20\n",
        "b=4\n",
        "print(a/b, b/a, a+b, a-b)"
      ],
      "execution_count": 11,
      "outputs": [
        {
          "output_type": "stream",
          "name": "stdout",
          "text": [
            "5.0 0.2 24 16\n"
          ]
        }
      ]
    },
    {
      "cell_type": "markdown",
      "metadata": {
        "id": "A3OFnZDWySXl"
      },
      "source": [
        "Para el **print** podemos separar las operaciones por variable con (,). lo cual, no afecta la impresión de los resultados por operación asignada"
      ]
    },
    {
      "cell_type": "markdown",
      "metadata": {
        "id": "f5MNAYqdzK-R"
      },
      "source": [
        "**Tipos de división**\n",
        "\n",
        "---\n",
        "1. División exacta (//)\n",
        "2. División inexacta (/)\n"
      ]
    },
    {
      "cell_type": "code",
      "metadata": {
        "id": "7kJUQ21Pzx0L",
        "outputId": "4f9444b3-45d9-40ba-f24c-00e3f458a7ca",
        "colab": {
          "base_uri": "https://localhost:8080/",
          "height": 231
        }
      },
      "source": [
        "print(15//4)\n",
        "print(15/4)\n",
        "print(2/0)"
      ],
      "execution_count": 17,
      "outputs": [
        {
          "output_type": "stream",
          "name": "stdout",
          "text": [
            "3\n",
            "3.75\n"
          ]
        },
        {
          "output_type": "error",
          "ename": "ZeroDivisionError",
          "evalue": "ignored",
          "traceback": [
            "\u001b[0;31m---------------------------------------------------------------------------\u001b[0m",
            "\u001b[0;31mZeroDivisionError\u001b[0m                         Traceback (most recent call last)",
            "\u001b[0;32m<ipython-input-17-d5d1ec7e2e84>\u001b[0m in \u001b[0;36m<module>\u001b[0;34m()\u001b[0m\n\u001b[1;32m      1\u001b[0m \u001b[0mprint\u001b[0m\u001b[0;34m(\u001b[0m\u001b[0;36m15\u001b[0m\u001b[0;34m//\u001b[0m\u001b[0;36m4\u001b[0m\u001b[0;34m)\u001b[0m\u001b[0;34m\u001b[0m\u001b[0;34m\u001b[0m\u001b[0m\n\u001b[1;32m      2\u001b[0m \u001b[0mprint\u001b[0m\u001b[0;34m(\u001b[0m\u001b[0;36m15\u001b[0m\u001b[0;34m/\u001b[0m\u001b[0;36m4\u001b[0m\u001b[0;34m)\u001b[0m\u001b[0;34m\u001b[0m\u001b[0;34m\u001b[0m\u001b[0m\n\u001b[0;32m----> 3\u001b[0;31m \u001b[0mprint\u001b[0m\u001b[0;34m(\u001b[0m\u001b[0;36m2\u001b[0m\u001b[0;34m/\u001b[0m\u001b[0;36m0\u001b[0m\u001b[0;34m)\u001b[0m\u001b[0;34m\u001b[0m\u001b[0;34m\u001b[0m\u001b[0m\n\u001b[0m",
            "\u001b[0;31mZeroDivisionError\u001b[0m: division by zero"
          ]
        }
      ]
    },
    {
      "cell_type": "markdown",
      "metadata": {
        "id": "KE5CNQcd0TJf"
      },
      "source": [
        "Nota: La Operación de división, al igual que una división normal, **NO** es posible dividir entre cero. ¿Por qué? Porque en matemáticas es un resultado indefinido."
      ]
    },
    {
      "cell_type": "markdown",
      "metadata": {
        "id": "I5JbwrjF4Xhh"
      },
      "source": [
        "4. Potenciación\n",
        "5. Módulo"
      ]
    },
    {
      "cell_type": "markdown",
      "metadata": {
        "id": "5Gk2FrMA4jd6"
      },
      "source": [
        "**Potenciación**\n",
        "\n",
        "---\n",
        "En python se maneja el símbolo (**).\n",
        "El primer valor es la base y el último valor el exponente.\n"
      ]
    },
    {
      "cell_type": "code",
      "metadata": {
        "id": "fFH8vuub6AJA",
        "outputId": "b1375d38-681b-4878-b10f-a03d892b8737",
        "colab": {
          "base_uri": "https://localhost:8080/"
        }
      },
      "source": [
        "print(2**4)"
      ],
      "execution_count": 19,
      "outputs": [
        {
          "output_type": "stream",
          "name": "stdout",
          "text": [
            "16\n"
          ]
        }
      ]
    },
    {
      "cell_type": "markdown",
      "metadata": {
        "id": "2FijnqPz6Tfr"
      },
      "source": [
        "**Módulo**\n",
        "\n",
        "---\n",
        "Le llamamos módulo al residuo de la operación de división.\n",
        "El símbolo usado para mostrar el residuo es (%)\n",
        "El primer valor es el dividendo y el último es el divisor.\n"
      ]
    },
    {
      "cell_type": "code",
      "metadata": {
        "id": "b5xNNrye8SNL",
        "outputId": "3a85bad5-b3d7-495a-e20f-bc0cc2c69367",
        "colab": {
          "base_uri": "https://localhost:8080/"
        }
      },
      "source": [
        "print(88%9)"
      ],
      "execution_count": 21,
      "outputs": [
        {
          "output_type": "stream",
          "name": "stdout",
          "text": [
            "7\n"
          ]
        }
      ]
    },
    {
      "cell_type": "markdown",
      "metadata": {
        "id": "iX_uhCva84lS"
      },
      "source": [
        "**OPERADORES DE COMPARACIÓN**\n",
        "\n",
        "---\n",
        "Los operadores de comparación sirven para comparar varios valores.\n",
        "En la vida cotidiana a la hora de tomar decisiones tenemos que decidir entre un camino u otro, ejemplo: Compras, decisiones de vida, caminos por recorrer.\n",
        "\n",
        "\n"
      ]
    },
    {
      "cell_type": "markdown",
      "metadata": {
        "id": "I1DrBX7BEGu4"
      },
      "source": [
        "**Igualdad**\n",
        "\n",
        "---\n",
        "Símbolo en python es (==)\n"
      ]
    },
    {
      "cell_type": "code",
      "metadata": {
        "id": "dLUwfPsIEOGE",
        "outputId": "1e886a45-94a3-4c1f-977a-028d2b2d6bb6",
        "colab": {
          "base_uri": "https://localhost:8080/"
        }
      },
      "source": [
        "x=30\n",
        "z=31\n",
        "print(x==z)"
      ],
      "execution_count": 22,
      "outputs": [
        {
          "output_type": "stream",
          "name": "stdout",
          "text": [
            "False\n"
          ]
        }
      ]
    },
    {
      "cell_type": "code",
      "metadata": {
        "id": "bRguiLTtEZYI",
        "outputId": "0f0abd12-629d-4b8b-c1ce-b6d5127b78ef",
        "colab": {
          "base_uri": "https://localhost:8080/"
        }
      },
      "source": [
        "x=\"casa\"\n",
        "z=\"casa\"\n",
        "print(x==z)"
      ],
      "execution_count": 23,
      "outputs": [
        {
          "output_type": "stream",
          "name": "stdout",
          "text": [
            "True\n"
          ]
        }
      ]
    },
    {
      "cell_type": "markdown",
      "metadata": {
        "id": "jphHW7LFGlBP"
      },
      "source": [
        "**Diferencia**\n",
        "\n",
        "---\n",
        "A diferencia del operedor de igualdad, el símbolo esta combinado por el símbolo de admiración, es decir (!=)\n"
      ]
    },
    {
      "cell_type": "code",
      "metadata": {
        "id": "Cj4RIgCzG96D",
        "outputId": "9ea04e70-0d1e-4c3a-90d7-3b426db3383f",
        "colab": {
          "base_uri": "https://localhost:8080/"
        }
      },
      "source": [
        "x=\"casa\"\n",
        "z=\"caza\"\n",
        "print(x!=z)"
      ],
      "execution_count": 25,
      "outputs": [
        {
          "output_type": "stream",
          "name": "stdout",
          "text": [
            "True\n"
          ]
        }
      ]
    },
    {
      "cell_type": "markdown",
      "metadata": {
        "id": "cp3LRZa9HLIH"
      },
      "source": [
        "**Mayor que**\n",
        "\n",
        "\n",
        "---\n",
        "Símbolo en python es(>)\n",
        "Siempre en comparativa se designa cual es menor o el mayor, por valor que está a la izquierda de la operación."
      ]
    },
    {
      "cell_type": "code",
      "metadata": {
        "id": "__WOPvFXHTL0",
        "outputId": "979a2f2d-5674-4a5f-b98e-5c9a40c3a0d9",
        "colab": {
          "base_uri": "https://localhost:8080/"
        }
      },
      "source": [
        "print(30>29.8)\n",
        "print(20>10)"
      ],
      "execution_count": 27,
      "outputs": [
        {
          "output_type": "stream",
          "name": "stdout",
          "text": [
            "True\n",
            "True\n"
          ]
        }
      ]
    },
    {
      "cell_type": "markdown",
      "metadata": {
        "id": "49FC-XMRH-IG"
      },
      "source": [
        "**Menor que**\n",
        "\n",
        "---\n",
        "Caso contrario, el símbolo es(<).\n"
      ]
    },
    {
      "cell_type": "code",
      "metadata": {
        "id": "hUmAQ72gILNQ",
        "outputId": "0e1a28b7-5e46-463f-c13c-3e2800878a7d",
        "colab": {
          "base_uri": "https://localhost:8080/"
        }
      },
      "source": [
        "x=4\n",
        "y=3\n",
        "print(x<y)"
      ],
      "execution_count": 28,
      "outputs": [
        {
          "output_type": "stream",
          "name": "stdout",
          "text": [
            "False\n"
          ]
        }
      ]
    },
    {
      "cell_type": "markdown",
      "metadata": {
        "id": "ZzfutC-DIeGi"
      },
      "source": [
        "**Mayor o igual que**\n",
        "\n",
        "---\n",
        "Es similar al mayor que, con la diferencia de que en la forma en que dará el resultado verdadero es si ambos números son iguales y flexibiliza dado verdadero de igual forma si el valor de la izquierda es mayor que el de la derecha. El símbolo es(>=).\n"
      ]
    },
    {
      "cell_type": "code",
      "metadata": {
        "id": "Ui-Z1wgyJFHR",
        "outputId": "a4e35904-4f85-4a1d-c631-51ba49c25838",
        "colab": {
          "base_uri": "https://localhost:8080/"
        }
      },
      "source": [
        "x=10\n",
        "y=5\n",
        "print(x>=y)"
      ],
      "execution_count": 30,
      "outputs": [
        {
          "output_type": "stream",
          "name": "stdout",
          "text": [
            "True\n"
          ]
        }
      ]
    },
    {
      "cell_type": "markdown",
      "metadata": {
        "id": "xy3oTxD5KuYD"
      },
      "source": [
        "**Menor o igual que**\n",
        "\n",
        "---\n",
        "El símbolo es (<=)\n"
      ]
    },
    {
      "cell_type": "code",
      "metadata": {
        "id": "JapArSEiK4f1",
        "outputId": "ff40fc48-9422-40f1-9f83-3f73b28a5cc0",
        "colab": {
          "base_uri": "https://localhost:8080/"
        }
      },
      "source": [
        "c=45\n",
        "print(c<=46)"
      ],
      "execution_count": 33,
      "outputs": [
        {
          "output_type": "stream",
          "name": "stdout",
          "text": [
            "True\n"
          ]
        }
      ]
    },
    {
      "cell_type": "markdown",
      "metadata": {
        "id": "zfND35APLLlA"
      },
      "source": [
        "**Tener en cuenta:**En comparaciones los resultados que nos arrojan siempre es de tipo Booleano es decir: True or False (verdadero y falso)"
      ]
    },
    {
      "cell_type": "markdown",
      "metadata": {
        "id": "iI4s6VcuLi9L"
      },
      "source": [
        "**OPERADORES LÓGICOS**\n",
        "\n",
        "---\n",
        "Python incluye tres operadores lógicos base:\n",
        "1. AND(y)\n",
        "2. OR(o)\n",
        "3. NOT(No)\n",
        "\n",
        "Los operadores lógicos funcionan solo con valores o variables booleanas, a su vez, devuelven como respuesta valores booleanos."
      ]
    },
    {
      "cell_type": "markdown",
      "metadata": {
        "id": "JxbNF87BSnFT"
      },
      "source": [
        "**Operador AND**\n",
        "\n",
        "---\n",
        "Este operador solo devolverá (verdadero) si ambos valores son.\n",
        "¿como usar el operador AND?\n",
        "Para usar este operador basta con escribir un  valor Booleano, luego, la palabra \"and\" y por último otro valor booleano.\n",
        "\n",
        "\n",
        "**Ejemplo:**\n"
      ]
    },
    {
      "cell_type": "code",
      "metadata": {
        "id": "litkwe6tTlMc",
        "outputId": "9d8fff88-bed4-499d-8b80-9fe50c619af7",
        "colab": {
          "base_uri": "https://localhost:8080/"
        }
      },
      "source": [
        "print(True and False)"
      ],
      "execution_count": 34,
      "outputs": [
        {
          "output_type": "stream",
          "name": "stdout",
          "text": [
            "False\n"
          ]
        }
      ]
    },
    {
      "cell_type": "markdown",
      "metadata": {
        "id": "Gc2x5SDqTzZ_"
      },
      "source": [
        "**Ejemplo 2 contextualización:**\n",
        "\n",
        "1. True and True = True\n",
        "2. True and False = False\n",
        "3. False and False = False\n",
        "4. False and True = False"
      ]
    },
    {
      "cell_type": "markdown",
      "metadata": {
        "id": "AxgSMqS5UM6s"
      },
      "source": [
        "**Operador OR**\n",
        "\n",
        "---\n",
        "A diferencia del operador AND, OR devuelve a todo verdadero a menos de que ambos valores sean **FALSOS**\n"
      ]
    },
    {
      "cell_type": "code",
      "metadata": {
        "id": "-YNQ6W7KU0-V",
        "outputId": "a59f7ef0-3f91-48d7-f8f4-43d6d0f9117b",
        "colab": {
          "base_uri": "https://localhost:8080/"
        }
      },
      "source": [
        "print(True or True)\n",
        "print(False or False)"
      ],
      "execution_count": 36,
      "outputs": [
        {
          "output_type": "stream",
          "name": "stdout",
          "text": [
            "True\n",
            "False\n"
          ]
        }
      ]
    },
    {
      "cell_type": "markdown",
      "metadata": {
        "id": "E_JGnNaGVJNP"
      },
      "source": [
        "**Ejemplo de contextualización OR:**\n",
        "\n",
        "** 1. False or False = False **\n",
        "2. True or True = True\n",
        "3. True or False = True\n",
        "4. False or True = True"
      ]
    },
    {
      "cell_type": "code",
      "metadata": {
        "id": "DUADtadoV35V",
        "outputId": "34fe4435-1eb6-435d-ba06-27fafb2bc835",
        "colab": {
          "base_uri": "https://localhost:8080/"
        }
      },
      "source": [
        "a=3\n",
        "b=2\n",
        "print(a>4 or a==4)\n",
        "print(b==b and a>=b)"
      ],
      "execution_count": 38,
      "outputs": [
        {
          "output_type": "stream",
          "name": "stdout",
          "text": [
            "False\n",
            "True\n"
          ]
        }
      ]
    },
    {
      "cell_type": "markdown",
      "metadata": {
        "id": "CWYCn-GFWc8x"
      },
      "source": [
        "**Operador NOT**\n",
        "\n",
        "---\n",
        "Este operador es de negación, en español \"No\".\n",
        "Este operador es muy especial, dado que por si solo no sirve para hacer ninguna operación, lo único que hace negar, o en palabras mas simples, invertir el valor booleano que viene despues de él.\n"
      ]
    },
    {
      "cell_type": "code",
      "metadata": {
        "id": "yabDtltKXatE",
        "outputId": "d814b1ce-8469-48e7-baa4-1665bb0e0ca1",
        "colab": {
          "base_uri": "https://localhost:8080/"
        }
      },
      "source": [
        "print(not False)\n",
        "print(not True)"
      ],
      "execution_count": 40,
      "outputs": [
        {
          "output_type": "stream",
          "name": "stdout",
          "text": [
            "True\n",
            "False\n"
          ]
        }
      ]
    },
    {
      "cell_type": "markdown",
      "metadata": {
        "id": "xaDKpEdwXztG"
      },
      "source": [
        "**PRECEDENCIA DE OPERACIONES**\n",
        "\n",
        "---\n",
        "Es muy importante manejar el orden de las operaciones al realizarlas, para no caer en problemas de código error.\n",
        "\n",
        "El orden debe ser:\n",
        "1. De izquierda a derecha\n",
        "2. Parentesis\n",
        "3. Potenciación o radicación\n",
        "4. Multiplicación y división\n",
        "5. Suma y resta\n",
        "\n",
        "**Ejemplo:**\n",
        "4-2(10)=\n",
        "1. Primero parentesis:\n",
        "4-2*10=\n",
        "2. Multiplicación:\n",
        "4-20=\n",
        "3. Resta:\n",
        "4-20= -16\n",
        "\n",
        "*¿Cuál crees que es el resultado de la siguiente operación?*\n"
      ]
    },
    {
      "cell_type": "code",
      "metadata": {
        "id": "ayPUSxXOaqv8",
        "outputId": "f8578017-6a22-472c-81e3-fd3898e923df",
        "colab": {
          "base_uri": "https://localhost:8080/"
        }
      },
      "source": [
        "a= False\n",
        "b=True\n",
        "c=True\n",
        "print(not c and (a or b) )"
      ],
      "execution_count": 41,
      "outputs": [
        {
          "output_type": "stream",
          "name": "stdout",
          "text": [
            "False\n"
          ]
        }
      ]
    },
    {
      "cell_type": "code",
      "metadata": {
        "id": "GYrckFzkaVG0",
        "outputId": "746bdf64-5e75-4700-826d-fde20194a00f",
        "colab": {
          "base_uri": "https://localhost:8080/"
        }
      },
      "source": [
        "print(3-2*(13-5))"
      ],
      "execution_count": 42,
      "outputs": [
        {
          "output_type": "stream",
          "name": "stdout",
          "text": [
            "-13\n"
          ]
        }
      ]
    },
    {
      "cell_type": "markdown",
      "metadata": {
        "id": "ijix1pXjb86y"
      },
      "source": [
        "**RESUMEN**\n",
        "\n",
        "---\n",
        "1. Aplicación de ley cuantitativa: Sólo para suma y resta (Operadores básicos)\n",
        "2. Los resultados con operadores lógicos son de tipo booleano.\n",
        "3. **NO** se puede realizar resta entre variables de tipo cadena (El procedimiento si abarca números es la conversión desde el inicio).\n",
        "4. Si aplicamos la condición AND, para que el resultado sea TRUE, la única forma es que ambos valores sean verdaderos.\n",
        "5. En cambio con el OR, si cumple que alguno de los dos valores son TRUE, el resultado será TRUE.\n"
      ]
    },
    {
      "cell_type": "code",
      "metadata": {
        "id": "z_LE4uhT7_Qh"
      },
      "source": [
        ""
      ],
      "execution_count": null,
      "outputs": []
    }
  ]
}